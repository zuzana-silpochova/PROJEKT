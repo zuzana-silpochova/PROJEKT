{
 "cells": [
  {
   "cell_type": "markdown",
   "metadata": {},
   "source": [
    "IMPORT KNIHOVEN"
   ]
  },
  {
   "cell_type": "code",
   "execution_count": 1,
   "metadata": {},
   "outputs": [],
   "source": [
    "from __future__ import division\n",
    "import pandas as pd\n",
    "import numpy as np\n",
    "import datetime\n",
    "from datetime import datetime\n",
    "import seaborn as sns"
   ]
  },
  {
   "cell_type": "markdown",
   "metadata": {},
   "source": [
    "IMPORT DATASETU"
   ]
  },
  {
   "cell_type": "code",
   "execution_count": 4,
   "metadata": {},
   "outputs": [
    {
     "name": "stdout",
     "output_type": "stream",
     "text": [
      "        ID_CLIENT     RECENCY  FREQUENCY  MONETARY_VALUE\n",
      "0           72327  2019-05-25          2            2000\n",
      "1           72361  2019-10-29       7798         7835759\n",
      "2           72371  2017-06-27         15           19500\n",
      "3           72455  2018-11-25          2            2000\n",
      "4           72462  2019-10-25        905         1900827\n",
      "...           ...         ...        ...             ...\n",
      "272981     657385  2019-10-29          1            5000\n",
      "272982     657485  2019-10-29          1            1000\n",
      "272983     657546  2019-10-29          2            2000\n",
      "272984     657577  2019-10-29          2            2000\n",
      "272985     657949  2019-10-29          1            1000\n",
      "\n",
      "[272986 rows x 4 columns]\n"
     ]
    }
   ],
   "source": [
    "rfm_tab = pd.read_csv('rfm_tab_2.csv.gz',sep=\",\", compression='gzip', encoding='utf-8')\n",
    "print(rfm_tab)"
   ]
  },
  {
   "cell_type": "code",
   "execution_count": 5,
   "metadata": {},
   "outputs": [
    {
     "name": "stdout",
     "output_type": "stream",
     "text": [
      "<class 'pandas.core.frame.DataFrame'>\n",
      "RangeIndex: 272986 entries, 0 to 272985\n",
      "Data columns (total 4 columns):\n",
      " #   Column          Non-Null Count   Dtype \n",
      "---  ------          --------------   ----- \n",
      " 0   ID_CLIENT       272986 non-null  int64 \n",
      " 1   RECENCY         272986 non-null  object\n",
      " 2   FREQUENCY       272986 non-null  int64 \n",
      " 3   MONETARY_VALUE  272986 non-null  int64 \n",
      "dtypes: int64(3), object(1)\n",
      "memory usage: 8.3+ MB\n",
      "None\n"
     ]
    }
   ],
   "source": [
    "print(rfm_tab.info())"
   ]
  },
  {
   "cell_type": "markdown",
   "metadata": {},
   "source": [
    "ZMĚNA DATOVÉHO TYPU - RECENCY"
   ]
  },
  {
   "cell_type": "code",
   "execution_count": 6,
   "metadata": {},
   "outputs": [],
   "source": [
    "for column in rfm_tab.columns:\n",
    "    if rfm_tab['RECENCY'].dtype == 'object':\n",
    "        rfm_tab['RECENCY'] = rfm_tab['RECENCY'].astype(np.datetime64)"
   ]
  },
  {
   "cell_type": "code",
   "execution_count": 7,
   "metadata": {},
   "outputs": [
    {
     "name": "stdout",
     "output_type": "stream",
     "text": [
      "<class 'pandas.core.frame.DataFrame'>\n",
      "RangeIndex: 272986 entries, 0 to 272985\n",
      "Data columns (total 4 columns):\n",
      " #   Column          Non-Null Count   Dtype         \n",
      "---  ------          --------------   -----         \n",
      " 0   ID_CLIENT       272986 non-null  int64         \n",
      " 1   RECENCY         272986 non-null  datetime64[ns]\n",
      " 2   FREQUENCY       272986 non-null  int64         \n",
      " 3   MONETARY_VALUE  272986 non-null  int64         \n",
      "dtypes: datetime64[ns](1), int64(3)\n",
      "memory usage: 8.3 MB\n",
      "None\n"
     ]
    }
   ],
   "source": [
    "print(rfm_tab.info())"
   ]
  },
  {
   "cell_type": "markdown",
   "metadata": {},
   "source": [
    "SCRIPT PRO ODPOČET DNŮ RECENCY - OD CURRENT DATE"
   ]
  },
  {
   "cell_type": "code",
   "execution_count": 8,
   "metadata": {
    "scrolled": true
   },
   "outputs": [
    {
     "name": "stdout",
     "output_type": "stream",
     "text": [
      "<class 'pandas.core.frame.DataFrame'>\n",
      "RangeIndex: 272986 entries, 0 to 272985\n",
      "Data columns (total 5 columns):\n",
      " #   Column          Non-Null Count   Dtype         \n",
      "---  ------          --------------   -----         \n",
      " 0   ID_CLIENT       272986 non-null  int64         \n",
      " 1   RECENCY         272986 non-null  datetime64[ns]\n",
      " 2   FREQUENCY       272986 non-null  int64         \n",
      " 3   MONETARY_VALUE  272986 non-null  int64         \n",
      " 4   RECENCY_DAYS    272986 non-null  int64         \n",
      "dtypes: datetime64[ns](1), int64(4)\n",
      "memory usage: 10.4 MB\n",
      "None\n"
     ]
    }
   ],
   "source": [
    "def get_diff(): \n",
    "    dif=[]\n",
    "    for date in rfm_tab['RECENCY']:\n",
    "        date_format = '%Y-%m-%d'\n",
    "        current_date = date.to_pydatetime()  \n",
    "        today = datetime.today()\n",
    "        diff = today - current_date\n",
    "        dif.append(diff.days) \n",
    "    return dif\n",
    "rfm_tab['RECENCY_DAYS'] = get_diff()\n",
    "\n",
    "print(rfm_tab.info())"
   ]
  },
  {
   "cell_type": "code",
   "execution_count": 9,
   "metadata": {
    "scrolled": false
   },
   "outputs": [
    {
     "data": {
      "text/html": [
       "<div>\n",
       "<style scoped>\n",
       "    .dataframe tbody tr th:only-of-type {\n",
       "        vertical-align: middle;\n",
       "    }\n",
       "\n",
       "    .dataframe tbody tr th {\n",
       "        vertical-align: top;\n",
       "    }\n",
       "\n",
       "    .dataframe thead th {\n",
       "        text-align: right;\n",
       "    }\n",
       "</style>\n",
       "<table border=\"1\" class=\"dataframe\">\n",
       "  <thead>\n",
       "    <tr style=\"text-align: right;\">\n",
       "      <th></th>\n",
       "      <th>FREQUENCY</th>\n",
       "      <th>MONETARY_VALUE</th>\n",
       "      <th>RECENCY_DAYS</th>\n",
       "    </tr>\n",
       "  </thead>\n",
       "  <tbody>\n",
       "    <tr>\n",
       "      <th>count</th>\n",
       "      <td>272986.000000</td>\n",
       "      <td>2.729860e+05</td>\n",
       "      <td>272986.000000</td>\n",
       "    </tr>\n",
       "    <tr>\n",
       "      <th>mean</th>\n",
       "      <td>478.527272</td>\n",
       "      <td>4.670945e+05</td>\n",
       "      <td>663.288290</td>\n",
       "    </tr>\n",
       "    <tr>\n",
       "      <th>std</th>\n",
       "      <td>3826.201875</td>\n",
       "      <td>6.353549e+06</td>\n",
       "      <td>275.286489</td>\n",
       "    </tr>\n",
       "    <tr>\n",
       "      <th>min</th>\n",
       "      <td>1.000000</td>\n",
       "      <td>-1.519212e+09</td>\n",
       "      <td>394.000000</td>\n",
       "    </tr>\n",
       "    <tr>\n",
       "      <th>25%</th>\n",
       "      <td>3.000000</td>\n",
       "      <td>1.000000e+03</td>\n",
       "      <td>409.000000</td>\n",
       "    </tr>\n",
       "    <tr>\n",
       "      <th>50%</th>\n",
       "      <td>22.000000</td>\n",
       "      <td>1.560000e+04</td>\n",
       "      <td>576.000000</td>\n",
       "    </tr>\n",
       "    <tr>\n",
       "      <th>75%</th>\n",
       "      <td>124.000000</td>\n",
       "      <td>1.034445e+05</td>\n",
       "      <td>896.000000</td>\n",
       "    </tr>\n",
       "    <tr>\n",
       "      <th>max</th>\n",
       "      <td>200615.000000</td>\n",
       "      <td>9.199628e+08</td>\n",
       "      <td>1426.000000</td>\n",
       "    </tr>\n",
       "  </tbody>\n",
       "</table>\n",
       "</div>"
      ],
      "text/plain": [
       "           FREQUENCY  MONETARY_VALUE   RECENCY_DAYS\n",
       "count  272986.000000    2.729860e+05  272986.000000\n",
       "mean      478.527272    4.670945e+05     663.288290\n",
       "std      3826.201875    6.353549e+06     275.286489\n",
       "min         1.000000   -1.519212e+09     394.000000\n",
       "25%         3.000000    1.000000e+03     409.000000\n",
       "50%        22.000000    1.560000e+04     576.000000\n",
       "75%       124.000000    1.034445e+05     896.000000\n",
       "max    200615.000000    9.199628e+08    1426.000000"
      ]
     },
     "execution_count": 9,
     "metadata": {},
     "output_type": "execute_result"
    }
   ],
   "source": [
    "rfm_tab[[\"FREQUENCY\", \"MONETARY_VALUE\", \"RECENCY_DAYS\"]].describe()"
   ]
  },
  {
   "cell_type": "code",
   "execution_count": 10,
   "metadata": {},
   "outputs": [
    {
     "name": "stdout",
     "output_type": "stream",
     "text": [
      "<class 'pandas.core.frame.DataFrame'>\n",
      "RangeIndex: 272986 entries, 0 to 272985\n",
      "Data columns (total 5 columns):\n",
      " #   Column          Non-Null Count   Dtype         \n",
      "---  ------          --------------   -----         \n",
      " 0   ID_CLIENT       272986 non-null  int64         \n",
      " 1   RECENCY         272986 non-null  datetime64[ns]\n",
      " 2   FREQUENCY       272986 non-null  int64         \n",
      " 3   MONETARY_VALUE  272986 non-null  int64         \n",
      " 4   RECENCY_DAYS    272986 non-null  int64         \n",
      "dtypes: datetime64[ns](1), int64(4)\n",
      "memory usage: 10.4 MB\n",
      "None\n"
     ]
    }
   ],
   "source": [
    "print(rfm_tab.info())"
   ]
  },
  {
   "cell_type": "markdown",
   "metadata": {},
   "source": [
    "VÝPOČET IQR"
   ]
  },
  {
   "cell_type": "markdown",
   "metadata": {},
   "source": [
    "OUTLIERS HANDLING - FREQUENCY (OUTLIERS HODNOTY JAKO UPPER LIMIT NEBO LOWER LIMIT) + VIZUALIZACE"
   ]
  },
  {
   "cell_type": "code",
   "execution_count": 11,
   "metadata": {},
   "outputs": [
    {
     "name": "stdout",
     "output_type": "stream",
     "text": [
      "3.0 124.0 121.0\n",
      "305.5\n",
      "-178.5\n"
     ]
    }
   ],
   "source": [
    "Q1_F = rfm_tab['FREQUENCY'].quantile(0.25)\n",
    "Q3_F = rfm_tab['FREQUENCY'].quantile(0.75)\n",
    "IQR_F = Q3_F - Q1_F\n",
    "print(Q1_F, Q3_F, IQR_F)\n",
    "\n",
    "upper_limit_F = Q3_F + (1.5*IQR_F)\n",
    "print(upper_limit_F)\n",
    "\n",
    "lower_limit_F = Q1_F - (1.5*IQR_F)\n",
    "print(lower_limit_F)"
   ]
  },
  {
   "cell_type": "code",
   "execution_count": 12,
   "metadata": {
    "scrolled": true
   },
   "outputs": [
    {
     "data": {
      "image/png": "[encoded data removed]",
      "text/plain": [
       "<Figure size 432x288 with 1 Axes>"
      ]
     },
     "metadata": {
      "needs_background": "light"
     },
     "output_type": "display_data"
    },
    {
     "data": {
      "image/png": "[encoded data removed]",
      "text/plain": [
       "<Figure size 432x288 with 1 Axes>"
      ]
     },
     "metadata": {
      "needs_background": "light"
     },
     "output_type": "display_data"
    }
   ],
   "source": [
    "from sklearn import datasets\n",
    "import matplotlib.pyplot as plt\n",
    "plt.figure()\n",
    "plt.boxplot(rfm_tab['FREQUENCY'], 0, 'gD')\n",
    "plt.show()\n",
    "\n",
    "rfm_tab['FREQUENCY'] = np.where(rfm_tab['FREQUENCY'] <lower_limit_F, lower_limit_F,rfm_tab['FREQUENCY'])\n",
    "rfm_tab['FREQUENCY'] = np.where(rfm_tab['FREQUENCY'] >upper_limit_F, upper_limit_F,rfm_tab['FREQUENCY'])\n",
    "plt.figure()\n",
    "plt.boxplot(rfm_tab['FREQUENCY'], 0, 'gD')\n",
    "plt.show()"
   ]
  },
  {
   "cell_type": "code",
   "execution_count": 13,
   "metadata": {
    "scrolled": true
   },
   "outputs": [
    {
     "data": {
      "text/plain": [
       "count    272986.000000\n",
       "mean         82.340444\n",
       "std         110.284894\n",
       "min           1.000000\n",
       "25%           3.000000\n",
       "50%          22.000000\n",
       "75%         124.000000\n",
       "max         305.500000\n",
       "Name: FREQUENCY, dtype: float64"
      ]
     },
     "execution_count": 13,
     "metadata": {},
     "output_type": "execute_result"
    }
   ],
   "source": [
    "rfm_tab['FREQUENCY'].describe()"
   ]
  },
  {
   "cell_type": "markdown",
   "metadata": {},
   "source": [
    "OUTLIERS HANDLING - MONETARY_VALUE (OUTLIERS HODNOTY JAKO UPPER LIMIT NEBO LOWER LIMIT) + VIZUALIZACE"
   ]
  },
  {
   "cell_type": "code",
   "execution_count": 14,
   "metadata": {},
   "outputs": [
    {
     "name": "stdout",
     "output_type": "stream",
     "text": [
      "1000.0 103444.5 102444.5\n",
      "257111.25\n",
      "-152666.75\n"
     ]
    }
   ],
   "source": [
    "Q1_M = rfm_tab['MONETARY_VALUE'].quantile(0.25)\n",
    "Q3_M = rfm_tab['MONETARY_VALUE'].quantile(0.75)\n",
    "IQR_M = Q3_M - Q1_M\n",
    "print(Q1_M, Q3_M, IQR_M)\n",
    "\n",
    "upper_limit_M = Q3_M + (1.5*IQR_M)\n",
    "print(upper_limit_M)\n",
    "\n",
    "lower_limit_M = Q1_M - (1.5*IQR_M)\n",
    "print(lower_limit_M)"
   ]
  },
  {
   "cell_type": "code",
   "execution_count": 15,
   "metadata": {},
   "outputs": [
    {
     "data": {
      "image/png": "[encoded data removed]",
      "text/plain": [
       "<Figure size 432x288 with 1 Axes>"
      ]
     },
     "metadata": {
      "needs_background": "light"
     },
     "output_type": "display_data"
    },
    {
     "data": {
      "image/png": "[encoded data removed]",
      "text/plain": [
       "<Figure size 432x288 with 1 Axes>"
      ]
     },
     "metadata": {
      "needs_background": "light"
     },
     "output_type": "display_data"
    }
   ],
   "source": [
    "plt.figure()\n",
    "plt.boxplot(rfm_tab['MONETARY_VALUE'], 0, 'gD')\n",
    "plt.show()\n",
    "\n",
    "rfm_tab['MONETARY_VALUE'] = np.where(rfm_tab['MONETARY_VALUE'] <lower_limit_M, lower_limit_M,rfm_tab['MONETARY_VALUE'])\n",
    "rfm_tab['MONETARY_VALUE'] = np.where(rfm_tab['MONETARY_VALUE'] >upper_limit_M, upper_limit_M,rfm_tab['MONETARY_VALUE'])\n",
    "plt.figure()\n",
    "plt.boxplot(rfm_tab['MONETARY_VALUE'], 0, 'gD')\n",
    "plt.show()"
   ]
  },
  {
   "cell_type": "markdown",
   "metadata": {},
   "source": [
    "OUTLIERS HANDLING - RECENCY_DAYS (OUTLIERS HODNOTY JAKO UPPER LIMIT NEBO LOWER LIMIT) + VIZUALIZACE"
   ]
  },
  {
   "cell_type": "code",
   "execution_count": 16,
   "metadata": {},
   "outputs": [
    {
     "name": "stdout",
     "output_type": "stream",
     "text": [
      "409.0 896.0 487.0\n",
      "1626.5\n",
      "-321.5\n"
     ]
    }
   ],
   "source": [
    "Q1_R = rfm_tab['RECENCY_DAYS'].quantile(0.25)\n",
    "Q3_R = rfm_tab['RECENCY_DAYS'].quantile(0.75)\n",
    "IQR_R = Q3_R - Q1_R\n",
    "print(Q1_R, Q3_R, IQR_R)\n",
    "\n",
    "upper_limit_R = Q3_R + (1.5*IQR_R)\n",
    "print(upper_limit_R)\n",
    "\n",
    "lower_limit_R = Q1_R - (1.5*IQR_R)\n",
    "print(lower_limit_R)"
   ]
  },
  {
   "cell_type": "code",
   "execution_count": 17,
   "metadata": {
    "scrolled": true
   },
   "outputs": [
    {
     "data": {
      "image/png": "[encoded data removed]",
      "text/plain": [
       "<Figure size 432x288 with 1 Axes>"
      ]
     },
     "metadata": {
      "needs_background": "light"
     },
     "output_type": "display_data"
    },
    {
     "data": {
      "image/png": "[encoded data removed]",
      "text/plain": [
       "<Figure size 432x288 with 1 Axes>"
      ]
     },
     "metadata": {
      "needs_background": "light"
     },
     "output_type": "display_data"
    }
   ],
   "source": [
    "plt.figure()\n",
    "plt.boxplot(rfm_tab['RECENCY_DAYS'], 0, 'gD')\n",
    "plt.show() \n",
    "\n",
    "rfm_tab['RECENCY_DAYS'] = np.where(rfm_tab['RECENCY_DAYS'] <lower_limit_R, lower_limit_R,rfm_tab['RECENCY_DAYS'])\n",
    "rfm_tab['RECENCY_DAYS'] = np.where(rfm_tab['RECENCY_DAYS'] >upper_limit_R, upper_limit_R,rfm_tab['RECENCY_DAYS'])\n",
    "plt.figure()\n",
    "plt.boxplot(rfm_tab['RECENCY_DAYS'], 0, 'gD')\n",
    "plt.show() "
   ]
  },
  {
   "cell_type": "code",
   "execution_count": 18,
   "metadata": {
    "scrolled": true
   },
   "outputs": [
    {
     "data": {
      "text/html": [
       "<div>\n",
       "<style scoped>\n",
       "    .dataframe tbody tr th:only-of-type {\n",
       "        vertical-align: middle;\n",
       "    }\n",
       "\n",
       "    .dataframe tbody tr th {\n",
       "        vertical-align: top;\n",
       "    }\n",
       "\n",
       "    .dataframe thead th {\n",
       "        text-align: right;\n",
       "    }\n",
       "</style>\n",
       "<table border=\"1\" class=\"dataframe\">\n",
       "  <thead>\n",
       "    <tr style=\"text-align: right;\">\n",
       "      <th></th>\n",
       "      <th>ID_CLIENT</th>\n",
       "      <th>FREQUENCY</th>\n",
       "      <th>MONETARY_VALUE</th>\n",
       "      <th>RECENCY_DAYS</th>\n",
       "    </tr>\n",
       "  </thead>\n",
       "  <tbody>\n",
       "    <tr>\n",
       "      <th>count</th>\n",
       "      <td>272986.000000</td>\n",
       "      <td>272986.000000</td>\n",
       "      <td>272986.000000</td>\n",
       "      <td>272986.000000</td>\n",
       "    </tr>\n",
       "    <tr>\n",
       "      <th>mean</th>\n",
       "      <td>353123.422487</td>\n",
       "      <td>82.340444</td>\n",
       "      <td>61879.546629</td>\n",
       "      <td>663.288290</td>\n",
       "    </tr>\n",
       "    <tr>\n",
       "      <th>std</th>\n",
       "      <td>160382.045154</td>\n",
       "      <td>110.284894</td>\n",
       "      <td>103052.063345</td>\n",
       "      <td>275.286489</td>\n",
       "    </tr>\n",
       "    <tr>\n",
       "      <th>min</th>\n",
       "      <td>72320.000000</td>\n",
       "      <td>1.000000</td>\n",
       "      <td>-152666.750000</td>\n",
       "      <td>394.000000</td>\n",
       "    </tr>\n",
       "    <tr>\n",
       "      <th>25%</th>\n",
       "      <td>220111.750000</td>\n",
       "      <td>3.000000</td>\n",
       "      <td>1000.000000</td>\n",
       "      <td>409.000000</td>\n",
       "    </tr>\n",
       "    <tr>\n",
       "      <th>50%</th>\n",
       "      <td>344335.500000</td>\n",
       "      <td>22.000000</td>\n",
       "      <td>15600.000000</td>\n",
       "      <td>576.000000</td>\n",
       "    </tr>\n",
       "    <tr>\n",
       "      <th>75%</th>\n",
       "      <td>485746.750000</td>\n",
       "      <td>124.000000</td>\n",
       "      <td>103444.500000</td>\n",
       "      <td>896.000000</td>\n",
       "    </tr>\n",
       "    <tr>\n",
       "      <th>max</th>\n",
       "      <td>658034.000000</td>\n",
       "      <td>305.500000</td>\n",
       "      <td>257111.250000</td>\n",
       "      <td>1426.000000</td>\n",
       "    </tr>\n",
       "  </tbody>\n",
       "</table>\n",
       "</div>"
      ],
      "text/plain": [
       "           ID_CLIENT      FREQUENCY  MONETARY_VALUE   RECENCY_DAYS\n",
       "count  272986.000000  272986.000000   272986.000000  272986.000000\n",
       "mean   353123.422487      82.340444    61879.546629     663.288290\n",
       "std    160382.045154     110.284894   103052.063345     275.286489\n",
       "min     72320.000000       1.000000  -152666.750000     394.000000\n",
       "25%    220111.750000       3.000000     1000.000000     409.000000\n",
       "50%    344335.500000      22.000000    15600.000000     576.000000\n",
       "75%    485746.750000     124.000000   103444.500000     896.000000\n",
       "max    658034.000000     305.500000   257111.250000    1426.000000"
      ]
     },
     "execution_count": 18,
     "metadata": {},
     "output_type": "execute_result"
    }
   ],
   "source": [
    "rfm_tab.describe()"
   ]
  },
  {
   "cell_type": "markdown",
   "metadata": {},
   "source": [
    "VÝPOČET Z-SCORE PRO JEDNOTLIVÉ PARAMETRY + VIZUALIZACE"
   ]
  },
  {
   "cell_type": "code",
   "execution_count": 19,
   "metadata": {},
   "outputs": [],
   "source": [
    "from sklearn.preprocessing import StandardScaler"
   ]
  },
  {
   "cell_type": "code",
   "execution_count": 20,
   "metadata": {},
   "outputs": [],
   "source": [
    "to_standardise=rfm_tab[[\"FREQUENCY\", \"MONETARY_VALUE\", \"RECENCY_DAYS\"]]"
   ]
  },
  {
   "cell_type": "code",
   "execution_count": 21,
   "metadata": {},
   "outputs": [
    {
     "name": "stdout",
     "output_type": "stream",
     "text": [
      "<class 'pandas.core.frame.DataFrame'>\n",
      "RangeIndex: 272986 entries, 0 to 272985\n",
      "Data columns (total 3 columns):\n",
      " #   Column          Non-Null Count   Dtype  \n",
      "---  ------          --------------   -----  \n",
      " 0   FREQUENCY       272986 non-null  float64\n",
      " 1   MONETARY_VALUE  272986 non-null  float64\n",
      " 2   RECENCY_DAYS    272986 non-null  float64\n",
      "dtypes: float64(3)\n",
      "memory usage: 6.2 MB\n",
      "None\n"
     ]
    }
   ],
   "source": [
    "print(to_standardise.info())"
   ]
  },
  {
   "cell_type": "code",
   "execution_count": 22,
   "metadata": {
    "scrolled": false
   },
   "outputs": [
    {
     "data": {
      "text/html": [
       "<div>\n",
       "<style scoped>\n",
       "    .dataframe tbody tr th:only-of-type {\n",
       "        vertical-align: middle;\n",
       "    }\n",
       "\n",
       "    .dataframe tbody tr th {\n",
       "        vertical-align: top;\n",
       "    }\n",
       "\n",
       "    .dataframe thead th {\n",
       "        text-align: right;\n",
       "    }\n",
       "</style>\n",
       "<table border=\"1\" class=\"dataframe\">\n",
       "  <thead>\n",
       "    <tr style=\"text-align: right;\">\n",
       "      <th></th>\n",
       "      <th>scaled_FREQUENCY</th>\n",
       "      <th>scaled_MONETARY_VALUE</th>\n",
       "      <th>scaled_RECENCY_DAYS</th>\n",
       "    </tr>\n",
       "  </thead>\n",
       "  <tbody>\n",
       "    <tr>\n",
       "      <th>0</th>\n",
       "      <td>-0.728482</td>\n",
       "      <td>-0.581062</td>\n",
       "      <td>-0.407897</td>\n",
       "    </tr>\n",
       "    <tr>\n",
       "      <th>1</th>\n",
       "      <td>2.023486</td>\n",
       "      <td>1.894499</td>\n",
       "      <td>-0.978213</td>\n",
       "    </tr>\n",
       "    <tr>\n",
       "      <th>2</th>\n",
       "      <td>-0.610606</td>\n",
       "      <td>-0.411245</td>\n",
       "      <td>2.124016</td>\n",
       "    </tr>\n",
       "    <tr>\n",
       "      <th>3</th>\n",
       "      <td>-0.728482</td>\n",
       "      <td>-0.581062</td>\n",
       "      <td>0.249601</td>\n",
       "    </tr>\n",
       "    <tr>\n",
       "      <th>4</th>\n",
       "      <td>2.023486</td>\n",
       "      <td>1.894499</td>\n",
       "      <td>-0.963683</td>\n",
       "    </tr>\n",
       "    <tr>\n",
       "      <th>5</th>\n",
       "      <td>-0.674078</td>\n",
       "      <td>-0.621178</td>\n",
       "      <td>-0.255328</td>\n",
       "    </tr>\n",
       "    <tr>\n",
       "      <th>6</th>\n",
       "      <td>-0.275110</td>\n",
       "      <td>1.374264</td>\n",
       "      <td>-0.811114</td>\n",
       "    </tr>\n",
       "    <tr>\n",
       "      <th>7</th>\n",
       "      <td>2.023486</td>\n",
       "      <td>1.894499</td>\n",
       "      <td>-0.182677</td>\n",
       "    </tr>\n",
       "    <tr>\n",
       "      <th>8</th>\n",
       "      <td>-0.665010</td>\n",
       "      <td>-0.435504</td>\n",
       "      <td>-0.970948</td>\n",
       "    </tr>\n",
       "    <tr>\n",
       "      <th>9</th>\n",
       "      <td>2.023486</td>\n",
       "      <td>1.894499</td>\n",
       "      <td>-0.970948</td>\n",
       "    </tr>\n",
       "  </tbody>\n",
       "</table>\n",
       "</div>"
      ],
      "text/plain": [
       "   scaled_FREQUENCY  scaled_MONETARY_VALUE  scaled_RECENCY_DAYS\n",
       "0         -0.728482              -0.581062            -0.407897\n",
       "1          2.023486               1.894499            -0.978213\n",
       "2         -0.610606              -0.411245             2.124016\n",
       "3         -0.728482              -0.581062             0.249601\n",
       "4          2.023486               1.894499            -0.963683\n",
       "5         -0.674078              -0.621178            -0.255328\n",
       "6         -0.275110               1.374264            -0.811114\n",
       "7          2.023486               1.894499            -0.182677\n",
       "8         -0.665010              -0.435504            -0.970948\n",
       "9          2.023486               1.894499            -0.970948"
      ]
     },
     "execution_count": 22,
     "metadata": {},
     "output_type": "execute_result"
    }
   ],
   "source": [
    "rfm_tab_scaled=StandardScaler().fit_transform(to_standardise)\n",
    "rfm_tab_scaled=pd.DataFrame(rfm_tab_scaled, columns=[\"scaled_FREQUENCY\", \"scaled_MONETARY_VALUE\", \"scaled_RECENCY_DAYS\"])\n",
    "rfm_tab_scaled.head(10)"
   ]
  },
  {
   "cell_type": "code",
   "execution_count": 23,
   "metadata": {
    "scrolled": true
   },
   "outputs": [
    {
     "name": "stdout",
     "output_type": "stream",
     "text": [
      "<class 'pandas.core.frame.DataFrame'>\n",
      "RangeIndex: 272986 entries, 0 to 272985\n",
      "Data columns (total 3 columns):\n",
      " #   Column                 Non-Null Count   Dtype  \n",
      "---  ------                 --------------   -----  \n",
      " 0   scaled_FREQUENCY       272986 non-null  float64\n",
      " 1   scaled_MONETARY_VALUE  272986 non-null  float64\n",
      " 2   scaled_RECENCY_DAYS    272986 non-null  float64\n",
      "dtypes: float64(3)\n",
      "memory usage: 6.2 MB\n",
      "None\n"
     ]
    }
   ],
   "source": [
    "print(rfm_tab_scaled.info())"
   ]
  },
  {
   "cell_type": "code",
   "execution_count": 24,
   "metadata": {},
   "outputs": [],
   "source": [
    "rfm_tab_row = pd.concat([rfm_tab, rfm_tab_scaled],axis=1)\n",
    "rfm_tab_final = rfm_tab_row[[\"ID_CLIENT\",\"FREQUENCY\", \"MONETARY_VALUE\", \"RECENCY_DAYS\", \"scaled_FREQUENCY\",\"scaled_MONETARY_VALUE\",\"scaled_RECENCY_DAYS\"]]"
   ]
  },
  {
   "cell_type": "code",
   "execution_count": 25,
   "metadata": {
    "scrolled": true
   },
   "outputs": [
    {
     "data": {
      "text/html": [
       "<div>\n",
       "<style scoped>\n",
       "    .dataframe tbody tr th:only-of-type {\n",
       "        vertical-align: middle;\n",
       "    }\n",
       "\n",
       "    .dataframe tbody tr th {\n",
       "        vertical-align: top;\n",
       "    }\n",
       "\n",
       "    .dataframe thead th {\n",
       "        text-align: right;\n",
       "    }\n",
       "</style>\n",
       "<table border=\"1\" class=\"dataframe\">\n",
       "  <thead>\n",
       "    <tr style=\"text-align: right;\">\n",
       "      <th></th>\n",
       "      <th>ID_CLIENT</th>\n",
       "      <th>FREQUENCY</th>\n",
       "      <th>MONETARY_VALUE</th>\n",
       "      <th>RECENCY_DAYS</th>\n",
       "      <th>scaled_FREQUENCY</th>\n",
       "      <th>scaled_MONETARY_VALUE</th>\n",
       "      <th>scaled_RECENCY_DAYS</th>\n",
       "    </tr>\n",
       "  </thead>\n",
       "  <tbody>\n",
       "    <tr>\n",
       "      <th>0</th>\n",
       "      <td>72327</td>\n",
       "      <td>2.0</td>\n",
       "      <td>2000.00</td>\n",
       "      <td>551.0</td>\n",
       "      <td>-0.728482</td>\n",
       "      <td>-0.581062</td>\n",
       "      <td>-0.407897</td>\n",
       "    </tr>\n",
       "    <tr>\n",
       "      <th>1</th>\n",
       "      <td>72361</td>\n",
       "      <td>305.5</td>\n",
       "      <td>257111.25</td>\n",
       "      <td>394.0</td>\n",
       "      <td>2.023486</td>\n",
       "      <td>1.894499</td>\n",
       "      <td>-0.978213</td>\n",
       "    </tr>\n",
       "    <tr>\n",
       "      <th>2</th>\n",
       "      <td>72371</td>\n",
       "      <td>15.0</td>\n",
       "      <td>19500.00</td>\n",
       "      <td>1248.0</td>\n",
       "      <td>-0.610606</td>\n",
       "      <td>-0.411245</td>\n",
       "      <td>2.124016</td>\n",
       "    </tr>\n",
       "    <tr>\n",
       "      <th>3</th>\n",
       "      <td>72455</td>\n",
       "      <td>2.0</td>\n",
       "      <td>2000.00</td>\n",
       "      <td>732.0</td>\n",
       "      <td>-0.728482</td>\n",
       "      <td>-0.581062</td>\n",
       "      <td>0.249601</td>\n",
       "    </tr>\n",
       "    <tr>\n",
       "      <th>4</th>\n",
       "      <td>72462</td>\n",
       "      <td>305.5</td>\n",
       "      <td>257111.25</td>\n",
       "      <td>398.0</td>\n",
       "      <td>2.023486</td>\n",
       "      <td>1.894499</td>\n",
       "      <td>-0.963683</td>\n",
       "    </tr>\n",
       "    <tr>\n",
       "      <th>5</th>\n",
       "      <td>72468</td>\n",
       "      <td>8.0</td>\n",
       "      <td>-2134.00</td>\n",
       "      <td>593.0</td>\n",
       "      <td>-0.674078</td>\n",
       "      <td>-0.621178</td>\n",
       "      <td>-0.255328</td>\n",
       "    </tr>\n",
       "    <tr>\n",
       "      <th>6</th>\n",
       "      <td>72473</td>\n",
       "      <td>52.0</td>\n",
       "      <td>203500.00</td>\n",
       "      <td>440.0</td>\n",
       "      <td>-0.275110</td>\n",
       "      <td>1.374264</td>\n",
       "      <td>-0.811114</td>\n",
       "    </tr>\n",
       "    <tr>\n",
       "      <th>7</th>\n",
       "      <td>72476</td>\n",
       "      <td>305.5</td>\n",
       "      <td>257111.25</td>\n",
       "      <td>613.0</td>\n",
       "      <td>2.023486</td>\n",
       "      <td>1.894499</td>\n",
       "      <td>-0.182677</td>\n",
       "    </tr>\n",
       "    <tr>\n",
       "      <th>8</th>\n",
       "      <td>72487</td>\n",
       "      <td>9.0</td>\n",
       "      <td>17000.00</td>\n",
       "      <td>396.0</td>\n",
       "      <td>-0.665010</td>\n",
       "      <td>-0.435504</td>\n",
       "      <td>-0.970948</td>\n",
       "    </tr>\n",
       "    <tr>\n",
       "      <th>9</th>\n",
       "      <td>72505</td>\n",
       "      <td>305.5</td>\n",
       "      <td>257111.25</td>\n",
       "      <td>396.0</td>\n",
       "      <td>2.023486</td>\n",
       "      <td>1.894499</td>\n",
       "      <td>-0.970948</td>\n",
       "    </tr>\n",
       "  </tbody>\n",
       "</table>\n",
       "</div>"
      ],
      "text/plain": [
       "   ID_CLIENT  FREQUENCY  MONETARY_VALUE  RECENCY_DAYS  scaled_FREQUENCY  \\\n",
       "0      72327        2.0         2000.00         551.0         -0.728482   \n",
       "1      72361      305.5       257111.25         394.0          2.023486   \n",
       "2      72371       15.0        19500.00        1248.0         -0.610606   \n",
       "3      72455        2.0         2000.00         732.0         -0.728482   \n",
       "4      72462      305.5       257111.25         398.0          2.023486   \n",
       "5      72468        8.0        -2134.00         593.0         -0.674078   \n",
       "6      72473       52.0       203500.00         440.0         -0.275110   \n",
       "7      72476      305.5       257111.25         613.0          2.023486   \n",
       "8      72487        9.0        17000.00         396.0         -0.665010   \n",
       "9      72505      305.5       257111.25         396.0          2.023486   \n",
       "\n",
       "   scaled_MONETARY_VALUE  scaled_RECENCY_DAYS  \n",
       "0              -0.581062            -0.407897  \n",
       "1               1.894499            -0.978213  \n",
       "2              -0.411245             2.124016  \n",
       "3              -0.581062             0.249601  \n",
       "4               1.894499            -0.963683  \n",
       "5              -0.621178            -0.255328  \n",
       "6               1.374264            -0.811114  \n",
       "7               1.894499            -0.182677  \n",
       "8              -0.435504            -0.970948  \n",
       "9               1.894499            -0.970948  "
      ]
     },
     "execution_count": 25,
     "metadata": {},
     "output_type": "execute_result"
    }
   ],
   "source": [
    "rfm_tab_final.head(10)"
   ]
  },
  {
   "cell_type": "code",
   "execution_count": 26,
   "metadata": {
    "scrolled": true
   },
   "outputs": [
    {
     "data": {
      "text/plain": [
       "array([[<AxesSubplot:title={'center':'scaled_FREQUENCY'}>,\n",
       "        <AxesSubplot:title={'center':'scaled_MONETARY_VALUE'}>],\n",
       "       [<AxesSubplot:title={'center':'scaled_RECENCY_DAYS'}>,\n",
       "        <AxesSubplot:>]], dtype=object)"
      ]
     },
     "execution_count": 26,
     "metadata": {},
     "output_type": "execute_result"
    },
    {
     "data": {
      "image/png": "[encoded data removed]",
      "text/plain": [
       "<Figure size 432x288 with 4 Axes>"
      ]
     },
     "metadata": {
      "needs_background": "light"
     },
     "output_type": "display_data"
    }
   ],
   "source": [
    "rfm_tab_final[[\"scaled_FREQUENCY\", \"scaled_MONETARY_VALUE\", \"scaled_RECENCY_DAYS\"]].hist(color='slategray')"
   ]
  },
  {
   "cell_type": "markdown",
   "metadata": {},
   "source": [
    "ELBOW METHOD "
   ]
  },
  {
   "cell_type": "code",
   "execution_count": 27,
   "metadata": {
    "scrolled": false
   },
   "outputs": [],
   "source": [
    "from sklearn.cluster import KMeans\n",
    "from sklearn import datasets\n",
    "import scipy.stats as stats\n",
    "from scipy.stats import zscore"
   ]
  },
  {
   "cell_type": "code",
   "execution_count": 28,
   "metadata": {
    "scrolled": true
   },
   "outputs": [
    {
     "name": "stdout",
     "output_type": "stream",
     "text": [
      "<class 'pandas.core.frame.DataFrame'>\n",
      "RangeIndex: 272986 entries, 0 to 272985\n",
      "Data columns (total 7 columns):\n",
      " #   Column                 Non-Null Count   Dtype  \n",
      "---  ------                 --------------   -----  \n",
      " 0   ID_CLIENT              272986 non-null  int64  \n",
      " 1   FREQUENCY              272986 non-null  float64\n",
      " 2   MONETARY_VALUE         272986 non-null  float64\n",
      " 3   RECENCY_DAYS           272986 non-null  float64\n",
      " 4   scaled_FREQUENCY       272986 non-null  float64\n",
      " 5   scaled_MONETARY_VALUE  272986 non-null  float64\n",
      " 6   scaled_RECENCY_DAYS    272986 non-null  float64\n",
      "dtypes: float64(6), int64(1)\n",
      "memory usage: 14.6 MB\n"
     ]
    }
   ],
   "source": [
    "rfm_tab_final.info(10)"
   ]
  },
  {
   "cell_type": "code",
   "execution_count": 29,
   "metadata": {},
   "outputs": [
    {
     "name": "stderr",
     "output_type": "stream",
     "text": [
      "c:\\users\\zuzan\\appdata\\local\\programs\\python\\python37\\lib\\site-packages\\seaborn\\_decorators.py:43: FutureWarning: Pass the following variables as keyword args: x, y. From version 0.12, the only valid positional argument will be `data`, and passing other arguments without an explicit keyword will result in an error or misinterpretation.\n",
      "  FutureWarning\n"
     ]
    },
    {
     "data": {
      "image/png": "[encoded data removed]",
      "text/plain": [
       "<Figure size 432x288 with 1 Axes>"
      ]
     },
     "metadata": {
      "needs_background": "light"
     },
     "output_type": "display_data"
    }
   ],
   "source": [
    "X = rfm_tab_final.iloc[:, [4,5,6]].values\n",
    "\n",
    "elbow=[]\n",
    "for i in range(1, 10):\n",
    "    kmeans = KMeans(n_clusters = i, init = 'k-means++', random_state = 101)\n",
    "    kmeans.fit(X)\n",
    "    elbow.append(kmeans.inertia_)\n",
    "\n",
    "\n",
    "sns.lineplot(range(1, 10), elbow,color='blue')\n",
    "plt.rcParams.update({'figure.figsize':(10,7.5), 'figure.dpi':100})\n",
    "plt.title('ELBOW METHOD')\n",
    "plt.show()"
   ]
  },
  {
   "cell_type": "markdown",
   "metadata": {},
   "source": [
    "K.MEANS - JEDNOTLIVÉ CLUSTERY"
   ]
  },
  {
   "cell_type": "code",
   "execution_count": 30,
   "metadata": {},
   "outputs": [],
   "source": [
    "def order_cluster(cluster_field_name, target_field_name, df, ascending):\n",
    "    new_cluster_field_name = 'new_'+cluster_field_name\n",
    "    df_new = df.groupby(cluster_field_name)[target_field_name].mean().reset_index()\n",
    "    df_new = df_new.sort_values(by=target_field_name, ascending = ascending).reset_index(drop=True)\n",
    "    df_new['index']=df_new.index\n",
    "    df_final = pd.merge(df, df_new[[cluster_field_name, 'index']], on=cluster_field_name)\n",
    "    df_final = df_final.drop([cluster_field_name], axis=1)\n",
    "    df_final = df_final.rename(columns={\"index\":cluster_field_name})\n",
    "    return df_final"
   ]
  },
  {
   "cell_type": "code",
   "execution_count": 31,
   "metadata": {
    "scrolled": true
   },
   "outputs": [
    {
     "data": {
      "text/html": [
       "<div>\n",
       "<style scoped>\n",
       "    .dataframe tbody tr th:only-of-type {\n",
       "        vertical-align: middle;\n",
       "    }\n",
       "\n",
       "    .dataframe tbody tr th {\n",
       "        vertical-align: top;\n",
       "    }\n",
       "\n",
       "    .dataframe thead th {\n",
       "        text-align: right;\n",
       "    }\n",
       "</style>\n",
       "<table border=\"1\" class=\"dataframe\">\n",
       "  <thead>\n",
       "    <tr style=\"text-align: right;\">\n",
       "      <th></th>\n",
       "      <th>count</th>\n",
       "      <th>mean</th>\n",
       "      <th>std</th>\n",
       "      <th>min</th>\n",
       "      <th>25%</th>\n",
       "      <th>50%</th>\n",
       "      <th>75%</th>\n",
       "      <th>max</th>\n",
       "    </tr>\n",
       "    <tr>\n",
       "      <th>Recency_Cluster</th>\n",
       "      <th></th>\n",
       "      <th></th>\n",
       "      <th></th>\n",
       "      <th></th>\n",
       "      <th></th>\n",
       "      <th></th>\n",
       "      <th></th>\n",
       "      <th></th>\n",
       "    </tr>\n",
       "  </thead>\n",
       "  <tbody>\n",
       "    <tr>\n",
       "      <th>0</th>\n",
       "      <td>69978.0</td>\n",
       "      <td>1069.491183</td>\n",
       "      <td>124.093859</td>\n",
       "      <td>882.0</td>\n",
       "      <td>1015.0</td>\n",
       "      <td>1023.0</td>\n",
       "      <td>1112.0</td>\n",
       "      <td>1426.0</td>\n",
       "    </tr>\n",
       "    <tr>\n",
       "      <th>1</th>\n",
       "      <td>71568.0</td>\n",
       "      <td>695.018165</td>\n",
       "      <td>88.043722</td>\n",
       "      <td>562.0</td>\n",
       "      <td>618.0</td>\n",
       "      <td>689.0</td>\n",
       "      <td>765.0</td>\n",
       "      <td>881.0</td>\n",
       "    </tr>\n",
       "    <tr>\n",
       "      <th>2</th>\n",
       "      <td>131440.0</td>\n",
       "      <td>429.751240</td>\n",
       "      <td>45.155587</td>\n",
       "      <td>394.0</td>\n",
       "      <td>396.0</td>\n",
       "      <td>406.0</td>\n",
       "      <td>451.0</td>\n",
       "      <td>561.0</td>\n",
       "    </tr>\n",
       "  </tbody>\n",
       "</table>\n",
       "</div>"
      ],
      "text/plain": [
       "                    count         mean         std    min     25%     50%  \\\n",
       "Recency_Cluster                                                             \n",
       "0                 69978.0  1069.491183  124.093859  882.0  1015.0  1023.0   \n",
       "1                 71568.0   695.018165   88.043722  562.0   618.0   689.0   \n",
       "2                131440.0   429.751240   45.155587  394.0   396.0   406.0   \n",
       "\n",
       "                    75%     max  \n",
       "Recency_Cluster                  \n",
       "0                1112.0  1426.0  \n",
       "1                 765.0   881.0  \n",
       "2                 451.0   561.0  "
      ]
     },
     "execution_count": 31,
     "metadata": {},
     "output_type": "execute_result"
    }
   ],
   "source": [
    "recency = rfm_tab_final[[\"scaled_RECENCY_DAYS\"]]\n",
    "kmeans = KMeans(n_clusters=3)\n",
    "recency_segment=kmeans.fit(recency).labels_ \n",
    "recency_segment=pd.DataFrame(recency_segment, columns=['Recency_Cluster'])\n",
    "rfm_tab_final['Recency_Cluster']=recency_segment\n",
    "rfm_tab_final = order_cluster('Recency_Cluster',\"RECENCY_DAYS\", rfm_tab_final, False)\n",
    "rfm_tab_final.groupby('Recency_Cluster')['RECENCY_DAYS'].describe()"
   ]
  },
  {
   "cell_type": "code",
   "execution_count": 32,
   "metadata": {
    "scrolled": true
   },
   "outputs": [
    {
     "data": {
      "text/html": [
       "<div>\n",
       "<style scoped>\n",
       "    .dataframe tbody tr th:only-of-type {\n",
       "        vertical-align: middle;\n",
       "    }\n",
       "\n",
       "    .dataframe tbody tr th {\n",
       "        vertical-align: top;\n",
       "    }\n",
       "\n",
       "    .dataframe thead th {\n",
       "        text-align: right;\n",
       "    }\n",
       "</style>\n",
       "<table border=\"1\" class=\"dataframe\">\n",
       "  <thead>\n",
       "    <tr style=\"text-align: right;\">\n",
       "      <th></th>\n",
       "      <th>count</th>\n",
       "      <th>mean</th>\n",
       "      <th>std</th>\n",
       "      <th>min</th>\n",
       "      <th>25%</th>\n",
       "      <th>50%</th>\n",
       "      <th>75%</th>\n",
       "      <th>max</th>\n",
       "    </tr>\n",
       "    <tr>\n",
       "      <th>Frequency_Cluster</th>\n",
       "      <th></th>\n",
       "      <th></th>\n",
       "      <th></th>\n",
       "      <th></th>\n",
       "      <th></th>\n",
       "      <th></th>\n",
       "      <th></th>\n",
       "      <th></th>\n",
       "    </tr>\n",
       "  </thead>\n",
       "  <tbody>\n",
       "    <tr>\n",
       "      <th>0</th>\n",
       "      <td>182138.0</td>\n",
       "      <td>14.492786</td>\n",
       "      <td>17.440271</td>\n",
       "      <td>1.0</td>\n",
       "      <td>1.0</td>\n",
       "      <td>6.0</td>\n",
       "      <td>22.0</td>\n",
       "      <td>68.0</td>\n",
       "    </tr>\n",
       "    <tr>\n",
       "      <th>1</th>\n",
       "      <td>40114.0</td>\n",
       "      <td>123.313581</td>\n",
       "      <td>39.551839</td>\n",
       "      <td>69.0</td>\n",
       "      <td>89.0</td>\n",
       "      <td>116.0</td>\n",
       "      <td>154.0</td>\n",
       "      <td>208.0</td>\n",
       "    </tr>\n",
       "    <tr>\n",
       "      <th>2</th>\n",
       "      <td>50734.0</td>\n",
       "      <td>293.521120</td>\n",
       "      <td>25.781719</td>\n",
       "      <td>209.0</td>\n",
       "      <td>305.5</td>\n",
       "      <td>305.5</td>\n",
       "      <td>305.5</td>\n",
       "      <td>305.5</td>\n",
       "    </tr>\n",
       "  </tbody>\n",
       "</table>\n",
       "</div>"
      ],
      "text/plain": [
       "                      count        mean        std    min    25%    50%  \\\n",
       "Frequency_Cluster                                                         \n",
       "0                  182138.0   14.492786  17.440271    1.0    1.0    6.0   \n",
       "1                   40114.0  123.313581  39.551839   69.0   89.0  116.0   \n",
       "2                   50734.0  293.521120  25.781719  209.0  305.5  305.5   \n",
       "\n",
       "                     75%    max  \n",
       "Frequency_Cluster                \n",
       "0                   22.0   68.0  \n",
       "1                  154.0  208.0  \n",
       "2                  305.5  305.5  "
      ]
     },
     "execution_count": 32,
     "metadata": {},
     "output_type": "execute_result"
    }
   ],
   "source": [
    "frequency = rfm_tab_final[[\"scaled_FREQUENCY\"]]\n",
    "kmeans = KMeans(n_clusters=3)\n",
    "frequency_segment=kmeans.fit(frequency).labels_ \n",
    "frequency_segment=pd.DataFrame(frequency_segment, columns=['Frequency_Cluster'])\n",
    "rfm_tab_final['Frequency_Cluster']=frequency_segment\n",
    "rfm_tab_final = order_cluster('Frequency_Cluster',\"FREQUENCY\", rfm_tab_final, True)\n",
    "rfm_tab_final.groupby('Frequency_Cluster')['FREQUENCY'].describe()"
   ]
  },
  {
   "cell_type": "code",
   "execution_count": 33,
   "metadata": {
    "scrolled": true
   },
   "outputs": [
    {
     "data": {
      "text/html": [
       "<div>\n",
       "<style scoped>\n",
       "    .dataframe tbody tr th:only-of-type {\n",
       "        vertical-align: middle;\n",
       "    }\n",
       "\n",
       "    .dataframe tbody tr th {\n",
       "        vertical-align: top;\n",
       "    }\n",
       "\n",
       "    .dataframe thead th {\n",
       "        text-align: right;\n",
       "    }\n",
       "</style>\n",
       "<table border=\"1\" class=\"dataframe\">\n",
       "  <thead>\n",
       "    <tr style=\"text-align: right;\">\n",
       "      <th></th>\n",
       "      <th>count</th>\n",
       "      <th>mean</th>\n",
       "      <th>std</th>\n",
       "      <th>min</th>\n",
       "      <th>25%</th>\n",
       "      <th>50%</th>\n",
       "      <th>75%</th>\n",
       "      <th>max</th>\n",
       "    </tr>\n",
       "    <tr>\n",
       "      <th>Monetary_value_Cluster</th>\n",
       "      <th></th>\n",
       "      <th></th>\n",
       "      <th></th>\n",
       "      <th></th>\n",
       "      <th></th>\n",
       "      <th></th>\n",
       "      <th></th>\n",
       "      <th></th>\n",
       "    </tr>\n",
       "  </thead>\n",
       "  <tbody>\n",
       "    <tr>\n",
       "      <th>0</th>\n",
       "      <td>12157.0</td>\n",
       "      <td>-130878.644094</td>\n",
       "      <td>32691.752439</td>\n",
       "      <td>-152666.75</td>\n",
       "      <td>-152666.75</td>\n",
       "      <td>-152666.75</td>\n",
       "      <td>-107300.00</td>\n",
       "      <td>-55340.00</td>\n",
       "    </tr>\n",
       "    <tr>\n",
       "      <th>1</th>\n",
       "      <td>199068.0</td>\n",
       "      <td>20716.417089</td>\n",
       "      <td>31294.598380</td>\n",
       "      <td>-55320.00</td>\n",
       "      <td>1000.00</td>\n",
       "      <td>7000.00</td>\n",
       "      <td>31000.00</td>\n",
       "      <td>126601.00</td>\n",
       "    </tr>\n",
       "    <tr>\n",
       "      <th>2</th>\n",
       "      <td>61761.0</td>\n",
       "      <td>232498.921249</td>\n",
       "      <td>41065.743937</td>\n",
       "      <td>126607.00</td>\n",
       "      <td>213847.00</td>\n",
       "      <td>257111.25</td>\n",
       "      <td>257111.25</td>\n",
       "      <td>257111.25</td>\n",
       "    </tr>\n",
       "  </tbody>\n",
       "</table>\n",
       "</div>"
      ],
      "text/plain": [
       "                           count           mean           std        min  \\\n",
       "Monetary_value_Cluster                                                     \n",
       "0                        12157.0 -130878.644094  32691.752439 -152666.75   \n",
       "1                       199068.0   20716.417089  31294.598380  -55320.00   \n",
       "2                        61761.0  232498.921249  41065.743937  126607.00   \n",
       "\n",
       "                              25%        50%        75%        max  \n",
       "Monetary_value_Cluster                                              \n",
       "0                      -152666.75 -152666.75 -107300.00  -55340.00  \n",
       "1                         1000.00    7000.00   31000.00  126601.00  \n",
       "2                       213847.00  257111.25  257111.25  257111.25  "
      ]
     },
     "execution_count": 33,
     "metadata": {},
     "output_type": "execute_result"
    }
   ],
   "source": [
    "monetary_value = rfm_tab_final[[\"scaled_MONETARY_VALUE\"]]\n",
    "kmeans = KMeans(n_clusters=3)\n",
    "monetary_value_segment=kmeans.fit(monetary_value).labels_ \n",
    "monetary_value_segment=pd.DataFrame(monetary_value_segment, columns=['Monetary_value_Cluster'])\n",
    "rfm_tab_final['Monetary_value_Cluster']=monetary_value_segment\n",
    "rfm_tab_final = order_cluster('Monetary_value_Cluster',\"MONETARY_VALUE\", rfm_tab_final, True)\n",
    "rfm_tab_final.groupby('Monetary_value_Cluster')['MONETARY_VALUE'].describe()"
   ]
  },
  {
   "cell_type": "markdown",
   "metadata": {},
   "source": [
    "PŘÍDÁNÍ VÁHY PRO JEDNOTLIVÉ CLUSTERY"
   ]
  },
  {
   "cell_type": "code",
   "execution_count": null,
   "metadata": {},
   "outputs": [],
   "source": []
  },
  {
   "cell_type": "code",
   "execution_count": 34,
   "metadata": {
    "scrolled": false
   },
   "outputs": [
    {
     "name": "stderr",
     "output_type": "stream",
     "text": [
      "c:\\users\\zuzan\\appdata\\local\\programs\\python\\python37\\lib\\site-packages\\ipykernel_launcher.py:2: FutureWarning: Indexing with multiple keys (implicitly converted to a tuple of keys) will be deprecated, use a list instead.\n",
      "  \n"
     ]
    },
    {
     "data": {
      "text/html": [
       "<div>\n",
       "<style scoped>\n",
       "    .dataframe tbody tr th:only-of-type {\n",
       "        vertical-align: middle;\n",
       "    }\n",
       "\n",
       "    .dataframe tbody tr th {\n",
       "        vertical-align: top;\n",
       "    }\n",
       "\n",
       "    .dataframe thead tr th {\n",
       "        text-align: left;\n",
       "    }\n",
       "\n",
       "    .dataframe thead tr:last-of-type th {\n",
       "        text-align: right;\n",
       "    }\n",
       "</style>\n",
       "<table border=\"1\" class=\"dataframe\">\n",
       "  <thead>\n",
       "    <tr>\n",
       "      <th></th>\n",
       "      <th colspan=\"3\" halign=\"left\">FREQUENCY</th>\n",
       "      <th colspan=\"3\" halign=\"left\">MONETARY_VALUE</th>\n",
       "      <th colspan=\"3\" halign=\"left\">RECENCY_DAYS</th>\n",
       "    </tr>\n",
       "    <tr>\n",
       "      <th></th>\n",
       "      <th>count</th>\n",
       "      <th>median</th>\n",
       "      <th>mean</th>\n",
       "      <th>count</th>\n",
       "      <th>median</th>\n",
       "      <th>mean</th>\n",
       "      <th>count</th>\n",
       "      <th>median</th>\n",
       "      <th>mean</th>\n",
       "    </tr>\n",
       "    <tr>\n",
       "      <th>OverallScore</th>\n",
       "      <th></th>\n",
       "      <th></th>\n",
       "      <th></th>\n",
       "      <th></th>\n",
       "      <th></th>\n",
       "      <th></th>\n",
       "      <th></th>\n",
       "      <th></th>\n",
       "      <th></th>\n",
       "    </tr>\n",
       "  </thead>\n",
       "  <tbody>\n",
       "    <tr>\n",
       "      <th>0</th>\n",
       "      <td>667</td>\n",
       "      <td>26.0</td>\n",
       "      <td>27.556222</td>\n",
       "      <td>667</td>\n",
       "      <td>-130800.00</td>\n",
       "      <td>-118692.253748</td>\n",
       "      <td>667</td>\n",
       "      <td>1096.0</td>\n",
       "      <td>1123.526237</td>\n",
       "    </tr>\n",
       "    <tr>\n",
       "      <th>1</th>\n",
       "      <td>62077</td>\n",
       "      <td>1.0</td>\n",
       "      <td>8.204311</td>\n",
       "      <td>62077</td>\n",
       "      <td>1000.00</td>\n",
       "      <td>6034.432974</td>\n",
       "      <td>62077</td>\n",
       "      <td>1022.0</td>\n",
       "      <td>1062.993862</td>\n",
       "    </tr>\n",
       "    <tr>\n",
       "      <th>2</th>\n",
       "      <td>57538</td>\n",
       "      <td>9.0</td>\n",
       "      <td>21.406132</td>\n",
       "      <td>57538</td>\n",
       "      <td>7000.00</td>\n",
       "      <td>13905.239637</td>\n",
       "      <td>57538</td>\n",
       "      <td>697.0</td>\n",
       "      <td>711.374709</td>\n",
       "    </tr>\n",
       "    <tr>\n",
       "      <th>3</th>\n",
       "      <td>73154</td>\n",
       "      <td>18.0</td>\n",
       "      <td>35.838081</td>\n",
       "      <td>73154</td>\n",
       "      <td>13310.00</td>\n",
       "      <td>26121.933951</td>\n",
       "      <td>73154</td>\n",
       "      <td>436.0</td>\n",
       "      <td>486.464240</td>\n",
       "    </tr>\n",
       "    <tr>\n",
       "      <th>4</th>\n",
       "      <td>27102</td>\n",
       "      <td>126.0</td>\n",
       "      <td>156.820714</td>\n",
       "      <td>27102</td>\n",
       "      <td>88000.00</td>\n",
       "      <td>82895.658789</td>\n",
       "      <td>27102</td>\n",
       "      <td>422.0</td>\n",
       "      <td>526.750793</td>\n",
       "    </tr>\n",
       "    <tr>\n",
       "      <th>5</th>\n",
       "      <td>21091</td>\n",
       "      <td>212.0</td>\n",
       "      <td>215.440472</td>\n",
       "      <td>21091</td>\n",
       "      <td>210777.00</td>\n",
       "      <td>184720.865405</td>\n",
       "      <td>21091</td>\n",
       "      <td>425.0</td>\n",
       "      <td>501.680717</td>\n",
       "    </tr>\n",
       "    <tr>\n",
       "      <th>6</th>\n",
       "      <td>31357</td>\n",
       "      <td>305.5</td>\n",
       "      <td>296.671700</td>\n",
       "      <td>31357</td>\n",
       "      <td>257111.25</td>\n",
       "      <td>246937.800244</td>\n",
       "      <td>31357</td>\n",
       "      <td>397.0</td>\n",
       "      <td>413.200370</td>\n",
       "    </tr>\n",
       "  </tbody>\n",
       "</table>\n",
       "</div>"
      ],
      "text/plain": [
       "             FREQUENCY                    MONETARY_VALUE             \\\n",
       "                 count median        mean          count     median   \n",
       "OverallScore                                                          \n",
       "0                  667   26.0   27.556222            667 -130800.00   \n",
       "1                62077    1.0    8.204311          62077    1000.00   \n",
       "2                57538    9.0   21.406132          57538    7000.00   \n",
       "3                73154   18.0   35.838081          73154   13310.00   \n",
       "4                27102  126.0  156.820714          27102   88000.00   \n",
       "5                21091  212.0  215.440472          21091  210777.00   \n",
       "6                31357  305.5  296.671700          31357  257111.25   \n",
       "\n",
       "                            RECENCY_DAYS                       \n",
       "                       mean        count  median         mean  \n",
       "OverallScore                                                   \n",
       "0            -118692.253748          667  1096.0  1123.526237  \n",
       "1               6034.432974        62077  1022.0  1062.993862  \n",
       "2              13905.239637        57538   697.0   711.374709  \n",
       "3              26121.933951        73154   436.0   486.464240  \n",
       "4              82895.658789        27102   422.0   526.750793  \n",
       "5             184720.865405        21091   425.0   501.680717  \n",
       "6             246937.800244        31357   397.0   413.200370  "
      ]
     },
     "execution_count": 34,
     "metadata": {},
     "output_type": "execute_result"
    }
   ],
   "source": [
    "rfm_tab_final['OverallScore'] = rfm_tab_final['Frequency_Cluster'] +  rfm_tab_final['Monetary_value_Cluster'] + rfm_tab_final['Recency_Cluster']\n",
    "rfm_tab_final.groupby('OverallScore')['FREQUENCY','MONETARY_VALUE','RECENCY_DAYS'].aggregate(['count', np.median, 'mean'])"
   ]
  },
  {
   "cell_type": "code",
   "execution_count": 35,
   "metadata": {},
   "outputs": [],
   "source": [
    "rfm_tab_final['RFMClass'] = rfm_tab_final.Recency_Cluster.map(str) \\\n",
    "                            + rfm_tab_final.Frequency_Cluster.map(str) \\\n",
    "                            + rfm_tab_final.Monetary_value_Cluster.map(str)"
   ]
  },
  {
   "cell_type": "code",
   "execution_count": 36,
   "metadata": {},
   "outputs": [
    {
     "data": {
      "text/html": [
       "<div>\n",
       "<style scoped>\n",
       "    .dataframe tbody tr th:only-of-type {\n",
       "        vertical-align: middle;\n",
       "    }\n",
       "\n",
       "    .dataframe tbody tr th {\n",
       "        vertical-align: top;\n",
       "    }\n",
       "\n",
       "    .dataframe thead th {\n",
       "        text-align: right;\n",
       "    }\n",
       "</style>\n",
       "<table border=\"1\" class=\"dataframe\">\n",
       "  <thead>\n",
       "    <tr style=\"text-align: right;\">\n",
       "      <th></th>\n",
       "      <th>ID_CLIENT</th>\n",
       "      <th>FREQUENCY</th>\n",
       "      <th>MONETARY_VALUE</th>\n",
       "      <th>RECENCY_DAYS</th>\n",
       "      <th>scaled_FREQUENCY</th>\n",
       "      <th>scaled_MONETARY_VALUE</th>\n",
       "      <th>scaled_RECENCY_DAYS</th>\n",
       "      <th>Recency_Cluster</th>\n",
       "      <th>Frequency_Cluster</th>\n",
       "      <th>Monetary_value_Cluster</th>\n",
       "      <th>OverallScore</th>\n",
       "      <th>RFMClass</th>\n",
       "    </tr>\n",
       "  </thead>\n",
       "  <tbody>\n",
       "    <tr>\n",
       "      <th>0</th>\n",
       "      <td>72327</td>\n",
       "      <td>2.0</td>\n",
       "      <td>2000.0</td>\n",
       "      <td>551.0</td>\n",
       "      <td>-0.728482</td>\n",
       "      <td>-0.581062</td>\n",
       "      <td>-0.407897</td>\n",
       "      <td>2</td>\n",
       "      <td>0</td>\n",
       "      <td>1</td>\n",
       "      <td>3</td>\n",
       "      <td>201</td>\n",
       "    </tr>\n",
       "    <tr>\n",
       "      <th>1</th>\n",
       "      <td>72487</td>\n",
       "      <td>9.0</td>\n",
       "      <td>17000.0</td>\n",
       "      <td>396.0</td>\n",
       "      <td>-0.665010</td>\n",
       "      <td>-0.435504</td>\n",
       "      <td>-0.970948</td>\n",
       "      <td>2</td>\n",
       "      <td>0</td>\n",
       "      <td>1</td>\n",
       "      <td>3</td>\n",
       "      <td>201</td>\n",
       "    </tr>\n",
       "    <tr>\n",
       "      <th>2</th>\n",
       "      <td>72619</td>\n",
       "      <td>10.0</td>\n",
       "      <td>16000.0</td>\n",
       "      <td>537.0</td>\n",
       "      <td>-0.655943</td>\n",
       "      <td>-0.445208</td>\n",
       "      <td>-0.458753</td>\n",
       "      <td>2</td>\n",
       "      <td>0</td>\n",
       "      <td>1</td>\n",
       "      <td>3</td>\n",
       "      <td>201</td>\n",
       "    </tr>\n",
       "    <tr>\n",
       "      <th>3</th>\n",
       "      <td>72350</td>\n",
       "      <td>15.0</td>\n",
       "      <td>65100.0</td>\n",
       "      <td>444.0</td>\n",
       "      <td>-0.610606</td>\n",
       "      <td>0.031251</td>\n",
       "      <td>-0.796584</td>\n",
       "      <td>2</td>\n",
       "      <td>0</td>\n",
       "      <td>1</td>\n",
       "      <td>3</td>\n",
       "      <td>201</td>\n",
       "    </tr>\n",
       "    <tr>\n",
       "      <th>4</th>\n",
       "      <td>72358</td>\n",
       "      <td>8.0</td>\n",
       "      <td>8000.0</td>\n",
       "      <td>508.0</td>\n",
       "      <td>-0.674078</td>\n",
       "      <td>-0.522839</td>\n",
       "      <td>-0.564098</td>\n",
       "      <td>2</td>\n",
       "      <td>0</td>\n",
       "      <td>1</td>\n",
       "      <td>3</td>\n",
       "      <td>201</td>\n",
       "    </tr>\n",
       "  </tbody>\n",
       "</table>\n",
       "</div>"
      ],
      "text/plain": [
       "   ID_CLIENT  FREQUENCY  MONETARY_VALUE  RECENCY_DAYS  scaled_FREQUENCY  \\\n",
       "0      72327        2.0          2000.0         551.0         -0.728482   \n",
       "1      72487        9.0         17000.0         396.0         -0.665010   \n",
       "2      72619       10.0         16000.0         537.0         -0.655943   \n",
       "3      72350       15.0         65100.0         444.0         -0.610606   \n",
       "4      72358        8.0          8000.0         508.0         -0.674078   \n",
       "\n",
       "   scaled_MONETARY_VALUE  scaled_RECENCY_DAYS  Recency_Cluster  \\\n",
       "0              -0.581062            -0.407897                2   \n",
       "1              -0.435504            -0.970948                2   \n",
       "2              -0.445208            -0.458753                2   \n",
       "3               0.031251            -0.796584                2   \n",
       "4              -0.522839            -0.564098                2   \n",
       "\n",
       "   Frequency_Cluster  Monetary_value_Cluster  OverallScore RFMClass  \n",
       "0                  0                       1             3      201  \n",
       "1                  0                       1             3      201  \n",
       "2                  0                       1             3      201  \n",
       "3                  0                       1             3      201  \n",
       "4                  0                       1             3      201  "
      ]
     },
     "execution_count": 36,
     "metadata": {},
     "output_type": "execute_result"
    }
   ],
   "source": [
    "rfm_tab_final.head()"
   ]
  },
  {
   "cell_type": "code",
   "execution_count": 37,
   "metadata": {},
   "outputs": [],
   "source": [
    "rfm_tab_final['Segment'] = 'Lost_clients'\n",
    "rfm_tab_final.loc[rfm_tab_final['OverallScore']>0,'Segment'] = 'With_low_potencial' \n",
    "rfm_tab_final.loc[rfm_tab_final['OverallScore']>2,'Segment'] = 'With_high_potencial' \n",
    "rfm_tab_final.loc[rfm_tab_final['OverallScore']>5,'Segment'] = 'Best clients' "
   ]
  },
  {
   "cell_type": "code",
   "execution_count": 38,
   "metadata": {},
   "outputs": [],
   "source": [
    "rfm_tab_final['Segment'] = 'Výherci'\n",
    "rfm_tab_final.loc[rfm_tab_final['RFMClass'] == \"000\",'Segment'] = 'Nevýnosní klienti'\n",
    "rfm_tab_final.loc[rfm_tab_final['RFMClass'] == \"010\",'Segment'] = 'Nevýnosní klienti'\n",
    "rfm_tab_final.loc[rfm_tab_final['RFMClass'] == \"100\",'Segment'] = 'Nevýnosní klienti'\n",
    "rfm_tab_final.loc[rfm_tab_final['RFMClass'] == \"020\",'Segment'] = 'Nevýnosní klienti'\n",
    "rfm_tab_final.loc[rfm_tab_final['RFMClass'] == \"110\",'Segment'] = 'Nevýnosní klienti'\n",
    "rfm_tab_final.loc[rfm_tab_final['RFMClass'] == \"120\",'Segment'] = 'Nevýnosní klienti'\n",
    "rfm_tab_final.loc[rfm_tab_final['RFMClass'] == \"210\",'Segment'] = 'Nevýnosní klienti'\n",
    "rfm_tab_final.loc[rfm_tab_final['RFMClass'] == \"200\",'Segment'] = 'Noví klienti'\n",
    "rfm_tab_final.loc[rfm_tab_final['RFMClass'] == \"201\",'Segment'] = 'Noví klienti'\n",
    "rfm_tab_final.loc[rfm_tab_final['RFMClass'] == \"202\",'Segment'] = 'Noví klienti'\n",
    "rfm_tab_final.loc[rfm_tab_final['RFMClass'] == \"001\",'Segment'] = 'Ztracení klienti'\n",
    "rfm_tab_final.loc[rfm_tab_final['RFMClass'] == \"002\",'Segment'] = 'Ztracení klienti'\n",
    "rfm_tab_final.loc[rfm_tab_final['RFMClass'] == \"011\",'Segment'] = 'Ztracení klienti'\n",
    "rfm_tab_final.loc[rfm_tab_final['RFMClass'] == \"012\",'Segment'] = 'Ztracení klienti'\n",
    "rfm_tab_final.loc[rfm_tab_final['RFMClass'] == \"021\",'Segment'] = 'Ztracení klienti'\n",
    "rfm_tab_final.loc[rfm_tab_final['RFMClass'] == \"022\",'Segment'] = 'Ztracení klienti'\n",
    "rfm_tab_final.loc[rfm_tab_final['RFMClass'] == \"101\",'Segment'] = 'Téměř ztracení klienti'\n",
    "rfm_tab_final.loc[rfm_tab_final['RFMClass'] == \"102\",'Segment'] = 'Téměř ztracení klienti'\n",
    "rfm_tab_final.loc[rfm_tab_final['RFMClass'] == \"111\",'Segment'] = 'Téměř ztracení klienti'\n",
    "rfm_tab_final.loc[rfm_tab_final['RFMClass'] == \"112\",'Segment'] = 'Téměř ztracení klienti'\n",
    "rfm_tab_final.loc[rfm_tab_final['RFMClass'] == \"121\",'Segment'] = 'Téměř ztracení klienti'\n",
    "rfm_tab_final.loc[rfm_tab_final['RFMClass'] == \"122\",'Segment'] = 'Téměř ztracení klienti'\n",
    "rfm_tab_final.loc[rfm_tab_final['RFMClass'] == \"211\",'Segment'] = 'Klienti s vysokým potenciálem'\n",
    "rfm_tab_final.loc[rfm_tab_final['RFMClass'] == \"212\",'Segment'] = 'Klienti s vysokým potenciálem'\n",
    "rfm_tab_final.loc[rfm_tab_final['RFMClass'] == \"221\",'Segment'] = 'Nejlepší klienti'\n",
    "rfm_tab_final.loc[rfm_tab_final['RFMClass'] == \"222\",'Segment'] = 'Nejlepší klienti'"
   ]
  },
  {
   "cell_type": "code",
   "execution_count": 39,
   "metadata": {
    "scrolled": false
   },
   "outputs": [
    {
     "data": {
      "text/html": [
       "<div>\n",
       "<style scoped>\n",
       "    .dataframe tbody tr th:only-of-type {\n",
       "        vertical-align: middle;\n",
       "    }\n",
       "\n",
       "    .dataframe tbody tr th {\n",
       "        vertical-align: top;\n",
       "    }\n",
       "\n",
       "    .dataframe thead th {\n",
       "        text-align: right;\n",
       "    }\n",
       "</style>\n",
       "<table border=\"1\" class=\"dataframe\">\n",
       "  <thead>\n",
       "    <tr style=\"text-align: right;\">\n",
       "      <th></th>\n",
       "      <th>ID_CLIENT</th>\n",
       "      <th>FREQUENCY</th>\n",
       "      <th>MONETARY_VALUE</th>\n",
       "      <th>RECENCY_DAYS</th>\n",
       "      <th>scaled_FREQUENCY</th>\n",
       "      <th>scaled_MONETARY_VALUE</th>\n",
       "      <th>scaled_RECENCY_DAYS</th>\n",
       "      <th>Recency_Cluster</th>\n",
       "      <th>Frequency_Cluster</th>\n",
       "      <th>Monetary_value_Cluster</th>\n",
       "      <th>OverallScore</th>\n",
       "      <th>RFMClass</th>\n",
       "      <th>Segment</th>\n",
       "    </tr>\n",
       "  </thead>\n",
       "  <tbody>\n",
       "    <tr>\n",
       "      <th>0</th>\n",
       "      <td>72327</td>\n",
       "      <td>2.0</td>\n",
       "      <td>2000.0</td>\n",
       "      <td>551.0</td>\n",
       "      <td>-0.728482</td>\n",
       "      <td>-0.581062</td>\n",
       "      <td>-0.407897</td>\n",
       "      <td>2</td>\n",
       "      <td>0</td>\n",
       "      <td>1</td>\n",
       "      <td>3</td>\n",
       "      <td>201</td>\n",
       "      <td>Noví klienti</td>\n",
       "    </tr>\n",
       "    <tr>\n",
       "      <th>1</th>\n",
       "      <td>72487</td>\n",
       "      <td>9.0</td>\n",
       "      <td>17000.0</td>\n",
       "      <td>396.0</td>\n",
       "      <td>-0.665010</td>\n",
       "      <td>-0.435504</td>\n",
       "      <td>-0.970948</td>\n",
       "      <td>2</td>\n",
       "      <td>0</td>\n",
       "      <td>1</td>\n",
       "      <td>3</td>\n",
       "      <td>201</td>\n",
       "      <td>Noví klienti</td>\n",
       "    </tr>\n",
       "    <tr>\n",
       "      <th>2</th>\n",
       "      <td>72619</td>\n",
       "      <td>10.0</td>\n",
       "      <td>16000.0</td>\n",
       "      <td>537.0</td>\n",
       "      <td>-0.655943</td>\n",
       "      <td>-0.445208</td>\n",
       "      <td>-0.458753</td>\n",
       "      <td>2</td>\n",
       "      <td>0</td>\n",
       "      <td>1</td>\n",
       "      <td>3</td>\n",
       "      <td>201</td>\n",
       "      <td>Noví klienti</td>\n",
       "    </tr>\n",
       "    <tr>\n",
       "      <th>3</th>\n",
       "      <td>72350</td>\n",
       "      <td>15.0</td>\n",
       "      <td>65100.0</td>\n",
       "      <td>444.0</td>\n",
       "      <td>-0.610606</td>\n",
       "      <td>0.031251</td>\n",
       "      <td>-0.796584</td>\n",
       "      <td>2</td>\n",
       "      <td>0</td>\n",
       "      <td>1</td>\n",
       "      <td>3</td>\n",
       "      <td>201</td>\n",
       "      <td>Noví klienti</td>\n",
       "    </tr>\n",
       "    <tr>\n",
       "      <th>4</th>\n",
       "      <td>72358</td>\n",
       "      <td>8.0</td>\n",
       "      <td>8000.0</td>\n",
       "      <td>508.0</td>\n",
       "      <td>-0.674078</td>\n",
       "      <td>-0.522839</td>\n",
       "      <td>-0.564098</td>\n",
       "      <td>2</td>\n",
       "      <td>0</td>\n",
       "      <td>1</td>\n",
       "      <td>3</td>\n",
       "      <td>201</td>\n",
       "      <td>Noví klienti</td>\n",
       "    </tr>\n",
       "    <tr>\n",
       "      <th>5</th>\n",
       "      <td>72389</td>\n",
       "      <td>5.0</td>\n",
       "      <td>13500.0</td>\n",
       "      <td>496.0</td>\n",
       "      <td>-0.701280</td>\n",
       "      <td>-0.469468</td>\n",
       "      <td>-0.607689</td>\n",
       "      <td>2</td>\n",
       "      <td>0</td>\n",
       "      <td>1</td>\n",
       "      <td>3</td>\n",
       "      <td>201</td>\n",
       "      <td>Noví klienti</td>\n",
       "    </tr>\n",
       "    <tr>\n",
       "      <th>6</th>\n",
       "      <td>72497</td>\n",
       "      <td>7.0</td>\n",
       "      <td>19400.0</td>\n",
       "      <td>561.0</td>\n",
       "      <td>-0.683145</td>\n",
       "      <td>-0.412215</td>\n",
       "      <td>-0.371571</td>\n",
       "      <td>2</td>\n",
       "      <td>0</td>\n",
       "      <td>1</td>\n",
       "      <td>3</td>\n",
       "      <td>201</td>\n",
       "      <td>Noví klienti</td>\n",
       "    </tr>\n",
       "    <tr>\n",
       "      <th>7</th>\n",
       "      <td>72536</td>\n",
       "      <td>20.0</td>\n",
       "      <td>49000.0</td>\n",
       "      <td>472.0</td>\n",
       "      <td>-0.565268</td>\n",
       "      <td>-0.124981</td>\n",
       "      <td>-0.694871</td>\n",
       "      <td>2</td>\n",
       "      <td>0</td>\n",
       "      <td>1</td>\n",
       "      <td>3</td>\n",
       "      <td>201</td>\n",
       "      <td>Noví klienti</td>\n",
       "    </tr>\n",
       "    <tr>\n",
       "      <th>8</th>\n",
       "      <td>72588</td>\n",
       "      <td>7.0</td>\n",
       "      <td>11000.0</td>\n",
       "      <td>490.0</td>\n",
       "      <td>-0.683145</td>\n",
       "      <td>-0.493728</td>\n",
       "      <td>-0.629485</td>\n",
       "      <td>2</td>\n",
       "      <td>0</td>\n",
       "      <td>1</td>\n",
       "      <td>3</td>\n",
       "      <td>201</td>\n",
       "      <td>Noví klienti</td>\n",
       "    </tr>\n",
       "    <tr>\n",
       "      <th>9</th>\n",
       "      <td>72603</td>\n",
       "      <td>9.0</td>\n",
       "      <td>22000.0</td>\n",
       "      <td>427.0</td>\n",
       "      <td>-0.665010</td>\n",
       "      <td>-0.386985</td>\n",
       "      <td>-0.858338</td>\n",
       "      <td>2</td>\n",
       "      <td>0</td>\n",
       "      <td>1</td>\n",
       "      <td>3</td>\n",
       "      <td>201</td>\n",
       "      <td>Noví klienti</td>\n",
       "    </tr>\n",
       "  </tbody>\n",
       "</table>\n",
       "</div>"
      ],
      "text/plain": [
       "   ID_CLIENT  FREQUENCY  MONETARY_VALUE  RECENCY_DAYS  scaled_FREQUENCY  \\\n",
       "0      72327        2.0          2000.0         551.0         -0.728482   \n",
       "1      72487        9.0         17000.0         396.0         -0.665010   \n",
       "2      72619       10.0         16000.0         537.0         -0.655943   \n",
       "3      72350       15.0         65100.0         444.0         -0.610606   \n",
       "4      72358        8.0          8000.0         508.0         -0.674078   \n",
       "5      72389        5.0         13500.0         496.0         -0.701280   \n",
       "6      72497        7.0         19400.0         561.0         -0.683145   \n",
       "7      72536       20.0         49000.0         472.0         -0.565268   \n",
       "8      72588        7.0         11000.0         490.0         -0.683145   \n",
       "9      72603        9.0         22000.0         427.0         -0.665010   \n",
       "\n",
       "   scaled_MONETARY_VALUE  scaled_RECENCY_DAYS  Recency_Cluster  \\\n",
       "0              -0.581062            -0.407897                2   \n",
       "1              -0.435504            -0.970948                2   \n",
       "2              -0.445208            -0.458753                2   \n",
       "3               0.031251            -0.796584                2   \n",
       "4              -0.522839            -0.564098                2   \n",
       "5              -0.469468            -0.607689                2   \n",
       "6              -0.412215            -0.371571                2   \n",
       "7              -0.124981            -0.694871                2   \n",
       "8              -0.493728            -0.629485                2   \n",
       "9              -0.386985            -0.858338                2   \n",
       "\n",
       "   Frequency_Cluster  Monetary_value_Cluster  OverallScore RFMClass  \\\n",
       "0                  0                       1             3      201   \n",
       "1                  0                       1             3      201   \n",
       "2                  0                       1             3      201   \n",
       "3                  0                       1             3      201   \n",
       "4                  0                       1             3      201   \n",
       "5                  0                       1             3      201   \n",
       "6                  0                       1             3      201   \n",
       "7                  0                       1             3      201   \n",
       "8                  0                       1             3      201   \n",
       "9                  0                       1             3      201   \n",
       "\n",
       "        Segment  \n",
       "0  Noví klienti  \n",
       "1  Noví klienti  \n",
       "2  Noví klienti  \n",
       "3  Noví klienti  \n",
       "4  Noví klienti  \n",
       "5  Noví klienti  \n",
       "6  Noví klienti  \n",
       "7  Noví klienti  \n",
       "8  Noví klienti  \n",
       "9  Noví klienti  "
      ]
     },
     "execution_count": 39,
     "metadata": {},
     "output_type": "execute_result"
    }
   ],
   "source": [
    "rfm_tab_final.head(10)"
   ]
  },
  {
   "cell_type": "code",
   "execution_count": 40,
   "metadata": {},
   "outputs": [],
   "source": [
    "rfm_tab_final.to_csv(\"rfm_tab_final_class.csv\", sep=',', index = False)"
   ]
  },
  {
   "cell_type": "code",
   "execution_count": 41,
   "metadata": {
    "scrolled": false
   },
   "outputs": [
    {
     "name": "stderr",
     "output_type": "stream",
     "text": [
      "c:\\users\\zuzan\\appdata\\local\\programs\\python\\python37\\lib\\site-packages\\ipykernel_launcher.py:1: FutureWarning: Indexing with multiple keys (implicitly converted to a tuple of keys) will be deprecated, use a list instead.\n",
      "  \"\"\"Entry point for launching an IPython kernel.\n"
     ]
    },
    {
     "data": {
      "text/html": [
       "<div>\n",
       "<style scoped>\n",
       "    .dataframe tbody tr th:only-of-type {\n",
       "        vertical-align: middle;\n",
       "    }\n",
       "\n",
       "    .dataframe tbody tr th {\n",
       "        vertical-align: top;\n",
       "    }\n",
       "\n",
       "    .dataframe thead tr th {\n",
       "        text-align: left;\n",
       "    }\n",
       "\n",
       "    .dataframe thead tr:last-of-type th {\n",
       "        text-align: right;\n",
       "    }\n",
       "</style>\n",
       "<table border=\"1\" class=\"dataframe\">\n",
       "  <thead>\n",
       "    <tr>\n",
       "      <th></th>\n",
       "      <th colspan=\"3\" halign=\"left\">FREQUENCY</th>\n",
       "      <th colspan=\"3\" halign=\"left\">MONETARY_VALUE</th>\n",
       "      <th colspan=\"3\" halign=\"left\">RECENCY_DAYS</th>\n",
       "    </tr>\n",
       "    <tr>\n",
       "      <th></th>\n",
       "      <th>count</th>\n",
       "      <th>median</th>\n",
       "      <th>mean</th>\n",
       "      <th>count</th>\n",
       "      <th>median</th>\n",
       "      <th>mean</th>\n",
       "      <th>count</th>\n",
       "      <th>median</th>\n",
       "      <th>mean</th>\n",
       "    </tr>\n",
       "    <tr>\n",
       "      <th>Segment</th>\n",
       "      <th></th>\n",
       "      <th></th>\n",
       "      <th></th>\n",
       "      <th></th>\n",
       "      <th></th>\n",
       "      <th></th>\n",
       "      <th></th>\n",
       "      <th></th>\n",
       "      <th></th>\n",
       "    </tr>\n",
       "  </thead>\n",
       "  <tbody>\n",
       "    <tr>\n",
       "      <th>Klienti s vysokým potenciálem</th>\n",
       "      <td>23491</td>\n",
       "      <td>118.0</td>\n",
       "      <td>124.990337</td>\n",
       "      <td>23491</td>\n",
       "      <td>112280.00</td>\n",
       "      <td>125081.252575</td>\n",
       "      <td>23491</td>\n",
       "      <td>403.0</td>\n",
       "      <td>424.729939</td>\n",
       "    </tr>\n",
       "    <tr>\n",
       "      <th>Nejlepší klienti</th>\n",
       "      <td>35790</td>\n",
       "      <td>305.5</td>\n",
       "      <td>294.716248</td>\n",
       "      <td>35790</td>\n",
       "      <td>257111.25</td>\n",
       "      <td>222663.590563</td>\n",
       "      <td>35790</td>\n",
       "      <td>397.0</td>\n",
       "      <td>414.397765</td>\n",
       "    </tr>\n",
       "    <tr>\n",
       "      <th>Nevýnosní klienti</th>\n",
       "      <td>6180</td>\n",
       "      <td>106.0</td>\n",
       "      <td>123.365858</td>\n",
       "      <td>6180</td>\n",
       "      <td>-152666.75</td>\n",
       "      <td>-127327.765696</td>\n",
       "      <td>6180</td>\n",
       "      <td>607.0</td>\n",
       "      <td>667.703236</td>\n",
       "    </tr>\n",
       "    <tr>\n",
       "      <th>Noví klienti</th>\n",
       "      <td>65742</td>\n",
       "      <td>14.0</td>\n",
       "      <td>20.375133</td>\n",
       "      <td>65742</td>\n",
       "      <td>12000.00</td>\n",
       "      <td>24029.896231</td>\n",
       "      <td>65742</td>\n",
       "      <td>424.0</td>\n",
       "      <td>441.293526</td>\n",
       "    </tr>\n",
       "    <tr>\n",
       "      <th>Téměř ztracení klienti</th>\n",
       "      <td>69124</td>\n",
       "      <td>14.0</td>\n",
       "      <td>57.528290</td>\n",
       "      <td>69124</td>\n",
       "      <td>14400.00</td>\n",
       "      <td>55333.734455</td>\n",
       "      <td>69124</td>\n",
       "      <td>690.0</td>\n",
       "      <td>695.494589</td>\n",
       "    </tr>\n",
       "    <tr>\n",
       "      <th>Výherci</th>\n",
       "      <td>3990</td>\n",
       "      <td>305.5</td>\n",
       "      <td>293.341479</td>\n",
       "      <td>3990</td>\n",
       "      <td>-152666.75</td>\n",
       "      <td>-142371.188283</td>\n",
       "      <td>3990</td>\n",
       "      <td>397.0</td>\n",
       "      <td>412.372180</td>\n",
       "    </tr>\n",
       "    <tr>\n",
       "      <th>Ztracení klienti</th>\n",
       "      <td>68669</td>\n",
       "      <td>2.0</td>\n",
       "      <td>25.409209</td>\n",
       "      <td>68669</td>\n",
       "      <td>1000.00</td>\n",
       "      <td>28180.408048</td>\n",
       "      <td>68669</td>\n",
       "      <td>1023.0</td>\n",
       "      <td>1068.912202</td>\n",
       "    </tr>\n",
       "  </tbody>\n",
       "</table>\n",
       "</div>"
      ],
      "text/plain": [
       "                              FREQUENCY                    MONETARY_VALUE  \\\n",
       "                                  count median        mean          count   \n",
       "Segment                                                                     \n",
       "Klienti s vysokým potenciálem     23491  118.0  124.990337          23491   \n",
       "Nejlepší klienti                  35790  305.5  294.716248          35790   \n",
       "Nevýnosní klienti                  6180  106.0  123.365858           6180   \n",
       "Noví klienti                      65742   14.0   20.375133          65742   \n",
       "Téměř ztracení klienti            69124   14.0   57.528290          69124   \n",
       "Výherci                            3990  305.5  293.341479           3990   \n",
       "Ztracení klienti                  68669    2.0   25.409209          68669   \n",
       "\n",
       "                                                        RECENCY_DAYS          \\\n",
       "                                  median           mean        count  median   \n",
       "Segment                                                                        \n",
       "Klienti s vysokým potenciálem  112280.00  125081.252575        23491   403.0   \n",
       "Nejlepší klienti               257111.25  222663.590563        35790   397.0   \n",
       "Nevýnosní klienti             -152666.75 -127327.765696         6180   607.0   \n",
       "Noví klienti                    12000.00   24029.896231        65742   424.0   \n",
       "Téměř ztracení klienti          14400.00   55333.734455        69124   690.0   \n",
       "Výherci                       -152666.75 -142371.188283         3990   397.0   \n",
       "Ztracení klienti                 1000.00   28180.408048        68669  1023.0   \n",
       "\n",
       "                                            \n",
       "                                      mean  \n",
       "Segment                                     \n",
       "Klienti s vysokým potenciálem   424.729939  \n",
       "Nejlepší klienti                414.397765  \n",
       "Nevýnosní klienti               667.703236  \n",
       "Noví klienti                    441.293526  \n",
       "Téměř ztracení klienti          695.494589  \n",
       "Výherci                         412.372180  \n",
       "Ztracení klienti               1068.912202  "
      ]
     },
     "execution_count": 41,
     "metadata": {},
     "output_type": "execute_result"
    }
   ],
   "source": [
    "rfm_tab_final.groupby('Segment')['FREQUENCY','MONETARY_VALUE','RECENCY_DAYS','Segment','RFMClass'].aggregate(['count', np.median, 'mean'])"
   ]
  },
  {
   "cell_type": "code",
   "execution_count": 42,
   "metadata": {
    "scrolled": false
   },
   "outputs": [
    {
     "ename": "SyntaxError",
     "evalue": "invalid syntax (<ipython-input-42-31a7d2e220eb>, line 1)",
     "output_type": "error",
     "traceback": [
      "\u001b[1;36m  File \u001b[1;32m\"<ipython-input-42-31a7d2e220eb>\"\u001b[1;36m, line \u001b[1;32m1\u001b[0m\n\u001b[1;33m    rfm_tab_final.groupby('RFMClass')['FREQUENCY','MONETARY_VALUE','RECENCY_DAYS', 'RFMClass'].aggregate(['count', np.median, 'mean']).sort_values rfm_tab_final.groupby('RFMClass')['FREQUENCY','MONETARY_VALUE','RECENCY_DAYS', 'RFMClass'].aggregate(['count', np.median, 'mean'])\u001b[0m\n\u001b[1;37m                                                                                                                                                               ^\u001b[0m\n\u001b[1;31mSyntaxError\u001b[0m\u001b[1;31m:\u001b[0m invalid syntax\n"
     ]
    }
   ],
   "source": [
    "rfm_tab_final.groupby('RFMClass')['FREQUENCY','MONETARY_VALUE','RECENCY_DAYS', 'RFMClass'].aggregate(['count', np.median, 'mean']).sort_values rfm_tab_final.groupby('RFMClass')['FREQUENCY','MONETARY_VALUE','RECENCY_DAYS', 'RFMClass'].aggregate(['count', np.median, 'mean'])"
   ]
  },
  {
   "cell_type": "code",
   "execution_count": null,
   "metadata": {
    "scrolled": true
   },
   "outputs": [],
   "source": [
    "#rfm_tab_final.to_csv(\"rfm_tab_final_seg.csv\", sep=',', index = False)"
   ]
  }
 ],
 "metadata": {
  "kernelspec": {
   "display_name": "Python 3",
   "language": "python",
   "name": "python3"
  },
  "language_info": {
   "codemirror_mode": {
    "name": "ipython",
    "version": 3
   },
   "file_extension": ".py",
   "mimetype": "text/x-python",
   "name": "python",
   "nbconvert_exporter": "python",
   "pygments_lexer": "ipython3",
   "version": "3.7.1"
  }
 },
 "nbformat": 4,
 "nbformat_minor": 4
}
